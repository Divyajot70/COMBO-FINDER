{
  "nbformat": 4,
  "nbformat_minor": 0,
  "metadata": {
    "colab": {
      "name": "Untitled6.ipynb",
      "provenance": [],
      "authorship_tag": "ABX9TyM0fGPa7CTvI6j4d6DR3wZN",
      "include_colab_link": true
    },
    "kernelspec": {
      "name": "python3",
      "display_name": "Python 3"
    },
    "language_info": {
      "name": "python"
    }
  },
  "cells": [
    {
      "cell_type": "markdown",
      "metadata": {
        "id": "view-in-github",
        "colab_type": "text"
      },
      "source": [
        "<a href=\"https://colab.research.google.com/github/Divyajot70/COMBO-FINDER/blob/main/Untitled6.ipynb\" target=\"_parent\"><img src=\"https://colab.research.google.com/assets/colab-badge.svg\" alt=\"Open In Colab\"/></a>"
      ]
    },
    {
      "cell_type": "markdown",
      "source": [
        "COMBO FINDER"
      ],
      "metadata": {
        "id": "AEJOAdHyuYA2"
      }
    },
    {
      "cell_type": "markdown",
      "source": [
        "Problem Statement:\n",
        "Find all the list of products whose sum-of-price is between 290 and 310.\n",
        "\n",
        "ProductList = {p1:10, p2:15, p3:20, p4:25, p5:30, p6:35, p7:50"
      ],
      "metadata": {
        "id": "Oxb8fB5Qua5s"
      }
    },
    {
      "cell_type": "markdown",
      "source": [
        "Library Inclusion"
      ],
      "metadata": {
        "id": "9KrAVbnjuduU"
      }
    },
    {
      "cell_type": "code",
      "execution_count": null,
      "metadata": {
        "id": "n3vGpRqeuV0e"
      },
      "outputs": [],
      "source": [
        "import random as r"
      ]
    },
    {
      "cell_type": "markdown",
      "source": [
        "Parameter Setting"
      ],
      "metadata": {
        "id": "UfDO3vOtunXK"
      }
    },
    {
      "cell_type": "code",
      "source": [
        "ProductList = {'p1':10, 'p2':15, 'p3':20, 'p4':25, 'p5':30, 'p6':35, 'p7':50,\n",
        "               'p8':40, 'p9':55, 'p10':60, 'p11':65, 'p12':75, 'p13':70,\n",
        "               'p14':45}\n",
        "LB          = 290\n",
        "UB          = 310\n",
        "ResultList  = set()   # Store Result List i.e. list of sets whose sum is between 90 and 210.\n",
        "Iterations  = 1000 "
      ],
      "metadata": {
        "id": "kJaGfeizumxW"
      },
      "execution_count": null,
      "outputs": []
    },
    {
      "cell_type": "code",
      "source": [
        "# Select combo size (i.e. number of products in a combo)\n",
        "SetSize = r.randint(2, len(ProductList)-1)\n",
        "print(\"Number of Product: \", SetSize)\n",
        "\n",
        "\n",
        "# Select number of elements from Set\n",
        "ComboList = r.sample(list(ProductList.keys()),SetSize)\n",
        "print(\"Product List     : \", ComboList)\n",
        "\n",
        "\n",
        "# Sum the products in ColboList\n",
        "ComboSum = sum([ ProductList[i] for i in ComboList])\n",
        "print(\"Sum of Product   : \", ComboSum)\n"
      ],
      "metadata": {
        "colab": {
          "base_uri": "https://localhost:8080/"
        },
        "id": "CH67NQPBusbA",
        "outputId": "f489be94-2ae4-4c48-bad8-0dee71419313"
      },
      "execution_count": null,
      "outputs": [
        {
          "output_type": "stream",
          "name": "stdout",
          "text": [
            "Number of Product:  8\n",
            "Product List     :  ['p7', 'p13', 'p8', 'p6', 'p14', 'p4', 'p12', 'p9']\n",
            "Sum of Product   :  395\n"
          ]
        }
      ]
    },
    {
      "cell_type": "markdown",
      "source": [
        "Start Program"
      ],
      "metadata": {
        "id": "70cohWeOuzAX"
      }
    },
    {
      "cell_type": "code",
      "source": [
        "# Loop till number of Iterations\n",
        "ResultList  = set()\n",
        "\n",
        "for i in range(Iterations):\n",
        "\n",
        "    # Select combo size (i.e. number of products in a combo)\n",
        "    SetSize = r.randint(2, len(ProductList)-1)\n",
        "\n",
        "    # Select number of elements from Set\n",
        "    ComboList = r.sample(list(ProductList.keys()),SetSize)\n",
        "\n",
        "    # Sum the products in ColboList\n",
        "    ComboSum = sum([ ProductList[i] for i in ComboList])\n",
        "    \n",
        "    # Check the Sum Between LB and UB\n",
        "    if ComboSum>= LB and ComboSum<= UB:\n",
        "      ResultList.add(tuple(ComboList))\n",
        "\n",
        "print(\"Done\")"
      ],
      "metadata": {
        "colab": {
          "base_uri": "https://localhost:8080/"
        },
        "id": "aPZc2hObu02A",
        "outputId": "d24b3d10-0990-4ccc-ce4d-9673d2ca55bc"
      },
      "execution_count": null,
      "outputs": [
        {
          "output_type": "stream",
          "name": "stdout",
          "text": [
            "Done\n"
          ]
        }
      ]
    },
    {
      "cell_type": "markdown",
      "source": [
        "Print Combo List and Total Count"
      ],
      "metadata": {
        "id": "W9GXXEjZu5V2"
      }
    },
    {
      "cell_type": "code",
      "source": [
        "# Print all the sets whose sum is between LB and UB\n",
        "for r in ResultList:\n",
        "\tprint (r)\n",
        "\n",
        "# Print total sets\n",
        "print (\"\\nTotal Sets: \", len(ResultList), \"\\n\")"
      ],
      "metadata": {
        "id": "SCy7YGNxu9Ml",
        "outputId": "b817eedb-99fd-4916-eca8-6285020373e4",
        "colab": {
          "base_uri": "https://localhost:8080/"
        }
      },
      "execution_count": null,
      "outputs": [
        {
          "output_type": "stream",
          "name": "stdout",
          "text": [
            "('p13', 'p10', 'p4', 'p8', 'p6', 'p11', 'p1')\n",
            "('p12', 'p8', 'p7', 'p14', 'p13', 'p4')\n",
            "('p4', 'p5', 'p11', 'p6', 'p1', 'p7', 'p12')\n",
            "('p1', 'p6', 'p13', 'p2', 'p14', 'p4', 'p7', 'p9')\n",
            "('p1', 'p10', 'p4', 'p13', 'p3', 'p7', 'p6', 'p5')\n",
            "('p3', 'p4', 'p5', 'p6', 'p12', 'p10', 'p7', 'p1')\n",
            "('p3', 'p8', 'p7', 'p11', 'p6', 'p9', 'p4')\n",
            "('p13', 'p6', 'p4', 'p2', 'p14', 'p8', 'p11')\n",
            "('p7', 'p1', 'p5', 'p3', 'p8', 'p12', 'p9', 'p4')\n",
            "('p8', 'p4', 'p1', 'p3', 'p2', 'p5', 'p14', 'p9', 'p10')\n",
            "('p13', 'p9', 'p2', 'p1', 'p6', 'p11', 'p7')\n",
            "('p3', 'p5', 'p6', 'p14', 'p8', 'p12', 'p7')\n",
            "('p8', 'p9', 'p7', 'p12', 'p1', 'p2', 'p10')\n",
            "('p10', 'p13', 'p14', 'p4', 'p2', 'p11', 'p1')\n",
            "('p1', 'p2', 'p13', 'p14', 'p7', 'p3', 'p4', 'p9')\n",
            "('p7', 'p9', 'p6', 'p10', 'p2', 'p1', 'p14', 'p4')\n",
            "('p2', 'p6', 'p9', 'p13', 'p4', 'p8', 'p14', 'p1')\n",
            "('p13', 'p12', 'p11', 'p4', 'p7', 'p3')\n",
            "('p9', 'p14', 'p2', 'p13', 'p10', 'p6', 'p1', 'p3')\n",
            "('p14', 'p9', 'p11', 'p3', 'p12', 'p5')\n",
            "('p1', 'p2', 'p9', 'p8', 'p10', 'p11', 'p3', 'p5')\n",
            "('p1', 'p2', 'p13', 'p5', 'p9', 'p8', 'p6', 'p3', 'p4')\n",
            "('p2', 'p7', 'p14', 'p11', 'p13', 'p4', 'p8')\n",
            "('p13', 'p3', 'p10', 'p4', 'p9', 'p2', 'p8', 'p1')\n",
            "('p4', 'p13', 'p2', 'p9', 'p14', 'p3', 'p11')\n",
            "('p13', 'p7', 'p10', 'p11', 'p6', 'p2')\n",
            "('p4', 'p11', 'p2', 'p1', 'p7', 'p6', 'p3', 'p12')\n",
            "('p1', 'p8', 'p3', 'p2', 'p4', 'p9', 'p13', 'p12')\n",
            "('p13', 'p4', 'p12', 'p9', 'p8', 'p2', 'p3')\n",
            "('p6', 'p9', 'p2', 'p10', 'p4', 'p14', 'p11')\n",
            "('p8', 'p3', 'p1', 'p5', 'p4', 'p9', 'p11', 'p7', 'p2')\n",
            "('p14', 'p7', 'p9', 'p3', 'p2', 'p8', 'p11')\n",
            "('p9', 'p6', 'p3', 'p11', 'p5', 'p10', 'p14')\n",
            "('p2', 'p5', 'p4', 'p10', 'p12', 'p8', 'p1', 'p9')\n",
            "('p5', 'p11', 'p9', 'p4', 'p6', 'p1', 'p13')\n",
            "('p13', 'p2', 'p8', 'p6', 'p4', 'p1', 'p5', 'p3', 'p11')\n",
            "('p4', 'p8', 'p12', 'p5', 'p2', 'p13', 'p6')\n",
            "('p11', 'p5', 'p12', 'p8', 'p14', 'p9')\n",
            "('p12', 'p13', 'p11', 'p7', 'p5', 'p3')\n",
            "('p1', 'p4', 'p12', 'p11', 'p6', 'p3', 'p10')\n",
            "('p6', 'p1', 'p12', 'p8', 'p4', 'p11', 'p10')\n",
            "('p4', 'p9', 'p14', 'p12', 'p10', 'p5')\n",
            "('p6', 'p8', 'p5', 'p10', 'p13', 'p11')\n",
            "('p11', 'p7', 'p2', 'p6', 'p13', 'p10')\n",
            "('p14', 'p1', 'p8', 'p3', 'p11', 'p9', 'p10')\n",
            "('p13', 'p4', 'p1', 'p12', 'p6', 'p10', 'p2')\n",
            "('p10', 'p4', 'p2', 'p12', 'p7', 'p13')\n",
            "('p2', 'p8', 'p7', 'p10', 'p6', 'p1', 'p9', 'p4')\n",
            "('p2', 'p11', 'p1', 'p9', 'p12', 'p4', 'p3', 'p8')\n",
            "('p5', 'p11', 'p8', 'p12', 'p9', 'p4', 'p2')\n",
            "('p2', 'p13', 'p12', 'p6', 'p4', 'p8', 'p1', 'p3')\n",
            "('p14', 'p2', 'p11', 'p13', 'p7', 'p9')\n",
            "\n",
            "Total Sets:  52 \n",
            "\n"
          ]
        }
      ]
    }
  ]
}